{
  "nbformat": 4,
  "nbformat_minor": 0,
  "metadata": {
    "kernelspec": {
      "display_name": "Python 2",
      "language": "python",
      "name": "python2"
    },
    "language_info": {
      "codemirror_mode": {
        "name": "ipython",
        "version": 2
      },
      "file_extension": ".py",
      "mimetype": "text/x-python",
      "name": "python",
      "nbconvert_exporter": "python",
      "pygments_lexer": "ipython2",
      "version": "2.7.16"
    },
    "colab": {
      "name": "Final.ipynb",
      "provenance": [],
      "collapsed_sections": []
    }
  },
  "cells": [
    {
      "cell_type": "code",
      "metadata": {
        "id": "FY9twvbHwHSd",
        "colab_type": "code",
        "colab": {}
      },
      "source": [
        "import warnings\n",
        "warnings.filterwarnings('ignore')"
      ],
      "execution_count": 0,
      "outputs": []
    },
    {
      "cell_type": "code",
      "metadata": {
        "id": "vqXs77fKwHSn",
        "colab_type": "code",
        "colab": {}
      },
      "source": [
        "import numpy as np\n",
        "import pandas as pd"
      ],
      "execution_count": 0,
      "outputs": []
    },
    {
      "cell_type": "code",
      "metadata": {
        "id": "bdOi98KNwHSu",
        "colab_type": "code",
        "colab": {
          "base_uri": "https://localhost:8080/",
          "height": 235
        },
        "outputId": "7f1ff935-7dfd-4a66-f2cb-b9b3552637df"
      },
      "source": [
        "import matplotlib.pyplot as plt \n",
        "import seaborn as sns\n",
        "stock = pd.DataFrame(pd.read_csv(\"C:\\Users\\sanja\\OneDrive\\Desktop\\Dataset\\stock.csv\",delimiter = '\\t'))\n",
        "stock.head()\n",
        "stock.shape\n",
        "stock.info()"
      ],
      "execution_count": 7,
      "outputs": [
        {
          "output_type": "stream",
          "text": [
            "<class 'pandas.core.frame.DataFrame'>\n",
            "RangeIndex: 24 entries, 0 to 23\n",
            "Data columns (total 8 columns):\n",
            "Date                    24 non-null object\n",
            "Open                    24 non-null float64\n",
            "High                    24 non-null float64\n",
            "Low                     24 non-null float64\n",
            "Last                    24 non-null float64\n",
            "Close                   24 non-null float64\n",
            "Total Trade Quantity    24 non-null int64\n",
            "Turnover (Lacs)         24 non-null float64\n",
            "dtypes: float64(6), int64(1), object(1)\n",
            "memory usage: 1.6+ KB\n"
          ],
          "name": "stdout"
        }
      ]
    },
    {
      "cell_type": "code",
      "metadata": {
        "id": "DPNSk1d5waIX",
        "colab_type": "code",
        "colab": {
          "base_uri": "https://localhost:8080/",
          "height": 758
        },
        "outputId": "5835489e-5212-4b81-d3b5-d4f31d95107f"
      },
      "source": [
        "stock"
      ],
      "execution_count": 8,
      "outputs": [
        {
          "output_type": "execute_result",
          "data": {
            "text/html": [
              "<div>\n",
              "<style scoped>\n",
              "    .dataframe tbody tr th:only-of-type {\n",
              "        vertical-align: middle;\n",
              "    }\n",
              "\n",
              "    .dataframe tbody tr th {\n",
              "        vertical-align: top;\n",
              "    }\n",
              "\n",
              "    .dataframe thead th {\n",
              "        text-align: right;\n",
              "    }\n",
              "</style>\n",
              "<table border=\"1\" class=\"dataframe\">\n",
              "  <thead>\n",
              "    <tr style=\"text-align: right;\">\n",
              "      <th></th>\n",
              "      <th>Date</th>\n",
              "      <th>Open</th>\n",
              "      <th>High</th>\n",
              "      <th>Low</th>\n",
              "      <th>Last</th>\n",
              "      <th>Close</th>\n",
              "      <th>Total Trade Quantity</th>\n",
              "      <th>Turnover (Lacs)</th>\n",
              "    </tr>\n",
              "  </thead>\n",
              "  <tbody>\n",
              "    <tr>\n",
              "      <th>0</th>\n",
              "      <td>08-10-2018</td>\n",
              "      <td>208.00</td>\n",
              "      <td>222.25</td>\n",
              "      <td>206.85</td>\n",
              "      <td>216.00</td>\n",
              "      <td>215.15</td>\n",
              "      <td>4642146</td>\n",
              "      <td>10062.83</td>\n",
              "    </tr>\n",
              "    <tr>\n",
              "      <th>1</th>\n",
              "      <td>05-10-2018</td>\n",
              "      <td>217.00</td>\n",
              "      <td>218.60</td>\n",
              "      <td>205.90</td>\n",
              "      <td>210.25</td>\n",
              "      <td>209.20</td>\n",
              "      <td>3519515</td>\n",
              "      <td>7407.06</td>\n",
              "    </tr>\n",
              "    <tr>\n",
              "      <th>2</th>\n",
              "      <td>04-10-2018</td>\n",
              "      <td>223.50</td>\n",
              "      <td>227.80</td>\n",
              "      <td>216.15</td>\n",
              "      <td>217.25</td>\n",
              "      <td>218.20</td>\n",
              "      <td>1728786</td>\n",
              "      <td>3815.79</td>\n",
              "    </tr>\n",
              "    <tr>\n",
              "      <th>3</th>\n",
              "      <td>03-10-2018</td>\n",
              "      <td>230.00</td>\n",
              "      <td>237.50</td>\n",
              "      <td>225.75</td>\n",
              "      <td>226.45</td>\n",
              "      <td>227.60</td>\n",
              "      <td>1708590</td>\n",
              "      <td>3960.27</td>\n",
              "    </tr>\n",
              "    <tr>\n",
              "      <th>4</th>\n",
              "      <td>01-10-2018</td>\n",
              "      <td>234.55</td>\n",
              "      <td>234.60</td>\n",
              "      <td>221.05</td>\n",
              "      <td>230.30</td>\n",
              "      <td>230.90</td>\n",
              "      <td>1534749</td>\n",
              "      <td>3486.05</td>\n",
              "    </tr>\n",
              "    <tr>\n",
              "      <th>5</th>\n",
              "      <td>28-09-2018</td>\n",
              "      <td>234.05</td>\n",
              "      <td>235.95</td>\n",
              "      <td>230.20</td>\n",
              "      <td>233.50</td>\n",
              "      <td>233.75</td>\n",
              "      <td>3069914</td>\n",
              "      <td>7162.35</td>\n",
              "    </tr>\n",
              "    <tr>\n",
              "      <th>6</th>\n",
              "      <td>27-09-2018</td>\n",
              "      <td>234.55</td>\n",
              "      <td>236.80</td>\n",
              "      <td>231.10</td>\n",
              "      <td>233.80</td>\n",
              "      <td>233.25</td>\n",
              "      <td>5082859</td>\n",
              "      <td>11859.95</td>\n",
              "    </tr>\n",
              "    <tr>\n",
              "      <th>7</th>\n",
              "      <td>26-09-2018</td>\n",
              "      <td>240.00</td>\n",
              "      <td>240.00</td>\n",
              "      <td>232.50</td>\n",
              "      <td>235.00</td>\n",
              "      <td>234.25</td>\n",
              "      <td>2240909</td>\n",
              "      <td>5248.60</td>\n",
              "    </tr>\n",
              "    <tr>\n",
              "      <th>8</th>\n",
              "      <td>25-09-2018</td>\n",
              "      <td>233.30</td>\n",
              "      <td>236.75</td>\n",
              "      <td>232.00</td>\n",
              "      <td>236.25</td>\n",
              "      <td>236.10</td>\n",
              "      <td>2349368</td>\n",
              "      <td>5503.90</td>\n",
              "    </tr>\n",
              "    <tr>\n",
              "      <th>9</th>\n",
              "      <td>24-09-2018</td>\n",
              "      <td>233.55</td>\n",
              "      <td>239.20</td>\n",
              "      <td>230.75</td>\n",
              "      <td>234.00</td>\n",
              "      <td>233.30</td>\n",
              "      <td>3423509</td>\n",
              "      <td>7999.55</td>\n",
              "    </tr>\n",
              "    <tr>\n",
              "      <th>10</th>\n",
              "      <td>21-09-2018</td>\n",
              "      <td>235.00</td>\n",
              "      <td>237.00</td>\n",
              "      <td>227.95</td>\n",
              "      <td>233.75</td>\n",
              "      <td>234.60</td>\n",
              "      <td>5395319</td>\n",
              "      <td>12589.59</td>\n",
              "    </tr>\n",
              "    <tr>\n",
              "      <th>11</th>\n",
              "      <td>19-09-2018</td>\n",
              "      <td>235.95</td>\n",
              "      <td>237.20</td>\n",
              "      <td>233.45</td>\n",
              "      <td>234.60</td>\n",
              "      <td>234.90</td>\n",
              "      <td>1362058</td>\n",
              "      <td>3202.78</td>\n",
              "    </tr>\n",
              "    <tr>\n",
              "      <th>12</th>\n",
              "      <td>18-09-2018</td>\n",
              "      <td>237.90</td>\n",
              "      <td>239.25</td>\n",
              "      <td>233.50</td>\n",
              "      <td>235.50</td>\n",
              "      <td>235.05</td>\n",
              "      <td>2614794</td>\n",
              "      <td>6163.70</td>\n",
              "    </tr>\n",
              "    <tr>\n",
              "      <th>13</th>\n",
              "      <td>17-09-2018</td>\n",
              "      <td>233.15</td>\n",
              "      <td>238.00</td>\n",
              "      <td>230.25</td>\n",
              "      <td>236.40</td>\n",
              "      <td>236.60</td>\n",
              "      <td>3170894</td>\n",
              "      <td>7445.41</td>\n",
              "    </tr>\n",
              "    <tr>\n",
              "      <th>14</th>\n",
              "      <td>14-09-2018</td>\n",
              "      <td>223.45</td>\n",
              "      <td>236.70</td>\n",
              "      <td>223.30</td>\n",
              "      <td>234.00</td>\n",
              "      <td>233.95</td>\n",
              "      <td>6377909</td>\n",
              "      <td>14784.50</td>\n",
              "    </tr>\n",
              "    <tr>\n",
              "      <th>15</th>\n",
              "      <td>12-09-2018</td>\n",
              "      <td>216.35</td>\n",
              "      <td>223.70</td>\n",
              "      <td>212.65</td>\n",
              "      <td>221.65</td>\n",
              "      <td>222.65</td>\n",
              "      <td>4570939</td>\n",
              "      <td>10002.01</td>\n",
              "    </tr>\n",
              "    <tr>\n",
              "      <th>16</th>\n",
              "      <td>11-09-2018</td>\n",
              "      <td>222.50</td>\n",
              "      <td>225.40</td>\n",
              "      <td>214.85</td>\n",
              "      <td>216.35</td>\n",
              "      <td>216.00</td>\n",
              "      <td>3508990</td>\n",
              "      <td>7735.81</td>\n",
              "    </tr>\n",
              "    <tr>\n",
              "      <th>17</th>\n",
              "      <td>10-09-2018</td>\n",
              "      <td>222.50</td>\n",
              "      <td>235.15</td>\n",
              "      <td>220.65</td>\n",
              "      <td>221.05</td>\n",
              "      <td>222.00</td>\n",
              "      <td>7514106</td>\n",
              "      <td>17130.29</td>\n",
              "    </tr>\n",
              "    <tr>\n",
              "      <th>18</th>\n",
              "      <td>07-09-2018</td>\n",
              "      <td>221.00</td>\n",
              "      <td>224.50</td>\n",
              "      <td>219.10</td>\n",
              "      <td>223.15</td>\n",
              "      <td>222.95</td>\n",
              "      <td>1232507</td>\n",
              "      <td>2742.84</td>\n",
              "    </tr>\n",
              "    <tr>\n",
              "      <th>19</th>\n",
              "      <td>06-09-2018</td>\n",
              "      <td>224.00</td>\n",
              "      <td>225.00</td>\n",
              "      <td>218.20</td>\n",
              "      <td>220.95</td>\n",
              "      <td>221.05</td>\n",
              "      <td>1738824</td>\n",
              "      <td>3856.72</td>\n",
              "    </tr>\n",
              "    <tr>\n",
              "      <th>20</th>\n",
              "      <td>05-09-2018</td>\n",
              "      <td>222.00</td>\n",
              "      <td>224.60</td>\n",
              "      <td>215.20</td>\n",
              "      <td>222.10</td>\n",
              "      <td>222.40</td>\n",
              "      <td>3023097</td>\n",
              "      <td>6674.93</td>\n",
              "    </tr>\n",
              "    <tr>\n",
              "      <th>21</th>\n",
              "      <td>04-09-2018</td>\n",
              "      <td>238.20</td>\n",
              "      <td>238.20</td>\n",
              "      <td>222.60</td>\n",
              "      <td>223.45</td>\n",
              "      <td>223.70</td>\n",
              "      <td>3554859</td>\n",
              "      <td>8163.82</td>\n",
              "    </tr>\n",
              "    <tr>\n",
              "      <th>22</th>\n",
              "      <td>03-09-2018</td>\n",
              "      <td>236.00</td>\n",
              "      <td>243.55</td>\n",
              "      <td>235.05</td>\n",
              "      <td>236.85</td>\n",
              "      <td>236.70</td>\n",
              "      <td>5242852</td>\n",
              "      <td>12538.39</td>\n",
              "    </tr>\n",
              "    <tr>\n",
              "      <th>23</th>\n",
              "      <td>31-08-2018</td>\n",
              "      <td>237.00</td>\n",
              "      <td>239.75</td>\n",
              "      <td>232.95</td>\n",
              "      <td>234.65</td>\n",
              "      <td>234.30</td>\n",
              "      <td>3353833</td>\n",
              "      <td>7913.21</td>\n",
              "    </tr>\n",
              "  </tbody>\n",
              "</table>\n",
              "</div>"
            ],
            "text/plain": [
              "          Date    Open    High  ...   Close  Total Trade Quantity  Turnover (Lacs)\n",
              "0   08-10-2018  208.00  222.25  ...  215.15               4642146         10062.83\n",
              "1   05-10-2018  217.00  218.60  ...  209.20               3519515          7407.06\n",
              "2   04-10-2018  223.50  227.80  ...  218.20               1728786          3815.79\n",
              "3   03-10-2018  230.00  237.50  ...  227.60               1708590          3960.27\n",
              "4   01-10-2018  234.55  234.60  ...  230.90               1534749          3486.05\n",
              "5   28-09-2018  234.05  235.95  ...  233.75               3069914          7162.35\n",
              "6   27-09-2018  234.55  236.80  ...  233.25               5082859         11859.95\n",
              "7   26-09-2018  240.00  240.00  ...  234.25               2240909          5248.60\n",
              "8   25-09-2018  233.30  236.75  ...  236.10               2349368          5503.90\n",
              "9   24-09-2018  233.55  239.20  ...  233.30               3423509          7999.55\n",
              "10  21-09-2018  235.00  237.00  ...  234.60               5395319         12589.59\n",
              "11  19-09-2018  235.95  237.20  ...  234.90               1362058          3202.78\n",
              "12  18-09-2018  237.90  239.25  ...  235.05               2614794          6163.70\n",
              "13  17-09-2018  233.15  238.00  ...  236.60               3170894          7445.41\n",
              "14  14-09-2018  223.45  236.70  ...  233.95               6377909         14784.50\n",
              "15  12-09-2018  216.35  223.70  ...  222.65               4570939         10002.01\n",
              "16  11-09-2018  222.50  225.40  ...  216.00               3508990          7735.81\n",
              "17  10-09-2018  222.50  235.15  ...  222.00               7514106         17130.29\n",
              "18  07-09-2018  221.00  224.50  ...  222.95               1232507          2742.84\n",
              "19  06-09-2018  224.00  225.00  ...  221.05               1738824          3856.72\n",
              "20  05-09-2018  222.00  224.60  ...  222.40               3023097          6674.93\n",
              "21  04-09-2018  238.20  238.20  ...  223.70               3554859          8163.82\n",
              "22  03-09-2018  236.00  243.55  ...  236.70               5242852         12538.39\n",
              "23  31-08-2018  237.00  239.75  ...  234.30               3353833          7913.21\n",
              "\n",
              "[24 rows x 8 columns]"
            ]
          },
          "metadata": {
            "tags": []
          },
          "execution_count": 8
        }
      ]
    },
    {
      "cell_type": "code",
      "metadata": {
        "id": "87_dygkGwHSz",
        "colab_type": "code",
        "colab": {
          "base_uri": "https://localhost:8080/",
          "height": 168
        },
        "outputId": "056fc605-d07f-4945-9a4a-8754e3c9ba2d"
      },
      "source": [
        "stock.isnull().sum()*100/stock.shape[0]"
      ],
      "execution_count": 9,
      "outputs": [
        {
          "output_type": "execute_result",
          "data": {
            "text/plain": [
              "Date                    0.0\n",
              "Open                    0.0\n",
              "High                    0.0\n",
              "Low                     0.0\n",
              "Last                    0.0\n",
              "Close                   0.0\n",
              "Total Trade Quantity    0.0\n",
              "Turnover (Lacs)         0.0\n",
              "dtype: float64"
            ]
          },
          "metadata": {
            "tags": []
          },
          "execution_count": 9
        }
      ]
    },
    {
      "cell_type": "code",
      "metadata": {
        "id": "Qu-93xzDwHS3",
        "colab_type": "code",
        "colab": {
          "base_uri": "https://localhost:8080/",
          "height": 369
        },
        "outputId": "775c60c8-4ff7-45f8-852f-21cdd19ffac4"
      },
      "source": [
        "fig, axs = plt.subplots(6, figsize = (5,5))\n",
        "plt1 = sns.boxplot(stock['Open'], ax = axs[0])\n",
        "plt2 = sns.boxplot(stock['High'], ax = axs[1])\n",
        "plt3 = sns.boxplot(stock['Low'], ax = axs[2])\n",
        "plt4 = sns.boxplot(stock['Last'], ax = axs[3])\n",
        "plt5 = sns.boxplot(stock['Close'], ax = axs[4])\n",
        "plt6 = sns.boxplot(stock['Turnover (Lacs)'], ax = axs[5])\n",
        "plt.tight_layout()"
      ],
      "execution_count": 10,
      "outputs": [
        {
          "output_type": "display_data",
          "data": {
            "image/png": "[encoded data removed]",
            "text/plain": [
              "<Figure size 360x360 with 6 Axes>"
            ]
          },
          "metadata": {
            "tags": []
          }
        }
      ]
    },
    {
      "cell_type": "code",
      "metadata": {
        "id": "dXrU7vZzwHS9",
        "colab_type": "code",
        "colab": {},
        "outputId": "bd62adf7-7500-4c1f-a697-a7c89178f334"
      },
      "source": [
        "sns.boxplot(stock['Total Trade Quantity'])\n",
        "plt.show()\n"
      ],
      "execution_count": 0,
      "outputs": [
        {
          "output_type": "display_data",
          "data": {
            "image/png": "[encoded data removed]",
            "text/plain": [
              "<Figure size 432x288 with 1 Axes>"
            ]
          },
          "metadata": {
            "tags": [],
            "needs_background": "light"
          }
        }
      ]
    },
    {
      "cell_type": "code",
      "metadata": {
        "id": "i-1SzaCMwHTF",
        "colab_type": "code",
        "colab": {}
      },
      "source": [
        "X = stock['Open']\n",
        "X1 = stock['High']\n",
        "y = stock['Total Trade Quantity']"
      ],
      "execution_count": 0,
      "outputs": []
    },
    {
      "cell_type": "code",
      "metadata": {
        "id": "7BFxosCXwHTK",
        "colab_type": "code",
        "colab": {}
      },
      "source": [
        "from sklearn.model_selection import train_test_split\n",
        "X_train, X_test, y_train, y_test = train_test_split(X, y, train_size = 0.7, test_size = 0.3, random_state = 100)\n",
        "X1_train, X1_test, y_train, y_test = train_test_split(X1, y, train_size = 0.7, test_size = 0.3, random_state = 100)"
      ],
      "execution_count": 0,
      "outputs": []
    },
    {
      "cell_type": "code",
      "metadata": {
        "id": "3i7BQ_WNwHTO",
        "colab_type": "code",
        "colab": {
          "base_uri": "https://localhost:8080/",
          "height": 118
        },
        "outputId": "506635a6-6ae9-43ad-a97e-94a503e5b10c"
      },
      "source": [
        "X_train.head()\n",
        "X1_train.head()\n",
        "y_train.head()"
      ],
      "execution_count": 13,
      "outputs": [
        {
          "output_type": "execute_result",
          "data": {
            "text/plain": [
              "11    1362058\n",
              "4     1534749\n",
              "23    3353833\n",
              "0     4642146\n",
              "1     3519515\n",
              "Name: Total Trade Quantity, dtype: int64"
            ]
          },
          "metadata": {
            "tags": []
          },
          "execution_count": 13
        }
      ]
    },
    {
      "cell_type": "code",
      "metadata": {
        "id": "aaYOsCSmwHTS",
        "colab_type": "code",
        "colab": {}
      },
      "source": [
        "from sklearn.linear_model import LogisticRegression as lr"
      ],
      "execution_count": 0,
      "outputs": []
    },
    {
      "cell_type": "code",
      "metadata": {
        "id": "Ptw5OmMIwHTW",
        "colab_type": "code",
        "colab": {}
      },
      "source": [
        "import seaborn as sns\n"
      ],
      "execution_count": 0,
      "outputs": []
    },
    {
      "cell_type": "code",
      "metadata": {
        "id": "hfc2CnNfwHTZ",
        "colab_type": "code",
        "colab": {}
      },
      "source": [
        "sns.set(style=\"white\")\n",
        "sns.set(style=\"whitegrid\", color_codes=True)   "
      ],
      "execution_count": 0,
      "outputs": []
    },
    {
      "cell_type": "code",
      "metadata": {
        "id": "1nbHgtSxyBti",
        "colab_type": "code",
        "colab": {}
      },
      "source": [
        "X_train = np.array(X_train).reshape(-1,1)\n",
        "y_train = np.array(y_train).reshape(-1,1)"
      ],
      "execution_count": 0,
      "outputs": []
    },
    {
      "cell_type": "code",
      "metadata": {
        "id": "T-OBdYxpzJzq",
        "colab_type": "code",
        "colab": {}
      },
      "source": [
        "X_test = np.array(X_test).reshape(-1,1)"
      ],
      "execution_count": 0,
      "outputs": []
    },
    {
      "cell_type": "code",
      "metadata": {
        "id": "gw_W01izw1Wm",
        "colab_type": "code",
        "colab": {
          "base_uri": "https://localhost:8080/",
          "height": 50
        },
        "outputId": "a5169ead-4835-45e9-96b0-f9a4d0b500f7"
      },
      "source": [
        "model = lr()\n",
        "model.fit(np.array(X_train),np.array(y_train))\n",
        "model.predict(np.array(X_test))\n"
      ],
      "execution_count": 29,
      "outputs": [
        {
          "output_type": "execute_result",
          "data": {
            "text/plain": [
              "array([2240909, 2240909, 2240909, 2240909, 2240909, 2240909, 2240909,\n",
              "       2240909])"
            ]
          },
          "metadata": {
            "tags": []
          },
          "execution_count": 29
        }
      ]
    },
    {
      "cell_type": "code",
      "metadata": {
        "id": "q_7TG_KRwHTd",
        "colab_type": "code",
        "colab": {
          "base_uri": "https://localhost:8080/",
          "height": 178
        },
        "outputId": "c4f3ef6e-1bb7-4885-c090-fd49d474d2f2"
      },
      "source": [
        "X_train_lr = lr.add_constant(X_train)\n",
        "X1_train_lr = lr.add_constant(X_train)"
      ],
      "execution_count": 17,
      "outputs": [
        {
          "output_type": "error",
          "ename": "AttributeError",
          "evalue": "ignored",
          "traceback": [
            "\u001b[0;31m\u001b[0m",
            "\u001b[0;31mAttributeError\u001b[0mTraceback (most recent call last)",
            "\u001b[0;32m<ipython-input-17-0b06bb3ae1f6>\u001b[0m in \u001b[0;36m<module>\u001b[0;34m()\u001b[0m\n\u001b[0;32m----> 1\u001b[0;31m \u001b[0mX_train_lr\u001b[0m \u001b[0;34m=\u001b[0m \u001b[0mlr\u001b[0m\u001b[0;34m.\u001b[0m\u001b[0madd_constant\u001b[0m\u001b[0;34m(\u001b[0m\u001b[0mX_train\u001b[0m\u001b[0;34m)\u001b[0m\u001b[0;34m\u001b[0m\u001b[0m\n\u001b[0m\u001b[1;32m      2\u001b[0m \u001b[0mX1_train_lr\u001b[0m \u001b[0;34m=\u001b[0m \u001b[0mlr\u001b[0m\u001b[0;34m.\u001b[0m\u001b[0madd_constant\u001b[0m\u001b[0;34m(\u001b[0m\u001b[0mX_train\u001b[0m\u001b[0;34m)\u001b[0m\u001b[0;34m\u001b[0m\u001b[0m\n",
            "\u001b[0;31mAttributeError\u001b[0m: type object 'LogisticRegression' has no attribute 'add_constant'"
          ]
        }
      ]
    },
    {
      "cell_type": "code",
      "metadata": {
        "id": "qACMVnwbwHTi",
        "colab_type": "code",
        "colab": {}
      },
      "source": [
        "from sklearn.linear_model import LogisticRegression as lr\n",
        "X_train_lr = lr.add_constant(X_train)\n",
        "X1_train_lr = lr.add_constant(X_train)"
      ],
      "execution_count": 0,
      "outputs": []
    },
    {
      "cell_type": "code",
      "metadata": {
        "id": "hmF9MXC8wHTm",
        "colab_type": "code",
        "colab": {}
      },
      "source": [
        "import statsmodels.api as sm\n",
        "X_train_sm = sm.add_constant(X_train)\n",
        "X1_train_sm = sm.add_constant(X_train)"
      ],
      "execution_count": 0,
      "outputs": []
    },
    {
      "cell_type": "code",
      "metadata": {
        "id": "EcgmtxSNwHTs",
        "colab_type": "code",
        "colab": {}
      },
      "source": [
        "lr = sm.OLS(y_train, X_train_sm).fit()\n",
        "lr = sm.OLS(y_train, X1_train_sm).fit()"
      ],
      "execution_count": 0,
      "outputs": []
    },
    {
      "cell_type": "code",
      "metadata": {
        "id": "NY9qaCNEwHTz",
        "colab_type": "code",
        "colab": {}
      },
      "source": [
        "lr.params"
      ],
      "execution_count": 0,
      "outputs": []
    },
    {
      "cell_type": "code",
      "metadata": {
        "id": "AjxSQenDwHT3",
        "colab_type": "code",
        "colab": {}
      },
      "source": [
        "print(lr.summary())"
      ],
      "execution_count": 0,
      "outputs": []
    },
    {
      "cell_type": "code",
      "metadata": {
        "id": "eAVBQ_ehwHT6",
        "colab_type": "code",
        "colab": {
          "base_uri": "https://localhost:8080/",
          "height": 274
        },
        "outputId": "8daa2d28-e9f3-4653-ba35-1aea14e36229"
      },
      "source": [
        " \n",
        "plt.scatter(X_train, y_train)\n",
        "plt.scatter(X1_train, y_train)\n",
        "plt.plot(X_train, 6.948 + 0.054*X_train, 'r')\n",
        "plt.show()\n"
      ],
      "execution_count": 20,
      "outputs": [
        {
          "output_type": "display_data",
          "data": {
            "image/png": "[encoded data removed]",
            "text/plain": [
              "<Figure size 432x288 with 1 Axes>"
            ]
          },
          "metadata": {
            "tags": []
          }
        }
      ]
    },
    {
      "cell_type": "code",
      "metadata": {
        "id": "0-FTAr7nwHUA",
        "colab_type": "code",
        "colab": {
          "base_uri": "https://localhost:8080/",
          "height": 229
        },
        "outputId": "1d81c218-5667-4dd1-c04f-ed584b0e0676"
      },
      "source": [
        "y_train_pred = lr.predict(X_train_sm)\n",
        "y_train_pred = lr.predict(X1_train_sm)\n",
        "res = (y_train - y_train_pred)\n",
        "fig = plt.figure()\n",
        "sns.distplot(res, bins = 15)\n",
        "fig.suptitle('Error Terms', fontsize = 15)                  # Plot heading \n",
        "plt.xlabel('y_train - y_train_pred', fontsize = 15)         # X-label\n",
        "plt.show()\n",
        "\n",
        "\n",
        "\n",
        "plt.scatter(X_train,res)\n",
        "plt.scatter(X1_train,res)\n",
        "plt.show()\n",
        "\n"
      ],
      "execution_count": 30,
      "outputs": [
        {
          "output_type": "error",
          "ename": "NameError",
          "evalue": "ignored",
          "traceback": [
            "\u001b[0;31m\u001b[0m",
            "\u001b[0;31mNameError\u001b[0mTraceback (most recent call last)",
            "\u001b[0;32m<ipython-input-30-f9550216841f>\u001b[0m in \u001b[0;36m<module>\u001b[0;34m()\u001b[0m\n\u001b[0;32m----> 1\u001b[0;31m \u001b[0my_train_pred\u001b[0m \u001b[0;34m=\u001b[0m \u001b[0mlr\u001b[0m\u001b[0;34m.\u001b[0m\u001b[0mpredict\u001b[0m\u001b[0;34m(\u001b[0m\u001b[0mX_train_sm\u001b[0m\u001b[0;34m)\u001b[0m\u001b[0;34m\u001b[0m\u001b[0m\n\u001b[0m\u001b[1;32m      2\u001b[0m \u001b[0my_train_pred\u001b[0m \u001b[0;34m=\u001b[0m \u001b[0mlr\u001b[0m\u001b[0;34m.\u001b[0m\u001b[0mpredict\u001b[0m\u001b[0;34m(\u001b[0m\u001b[0mX1_train_sm\u001b[0m\u001b[0;34m)\u001b[0m\u001b[0;34m\u001b[0m\u001b[0m\n\u001b[1;32m      3\u001b[0m \u001b[0mres\u001b[0m \u001b[0;34m=\u001b[0m \u001b[0;34m(\u001b[0m\u001b[0my_train\u001b[0m \u001b[0;34m-\u001b[0m \u001b[0my_train_pred\u001b[0m\u001b[0;34m)\u001b[0m\u001b[0;34m\u001b[0m\u001b[0m\n\u001b[1;32m      4\u001b[0m \u001b[0mfig\u001b[0m \u001b[0;34m=\u001b[0m \u001b[0mplt\u001b[0m\u001b[0;34m.\u001b[0m\u001b[0mfigure\u001b[0m\u001b[0;34m(\u001b[0m\u001b[0;34m)\u001b[0m\u001b[0;34m\u001b[0m\u001b[0m\n\u001b[1;32m      5\u001b[0m \u001b[0msns\u001b[0m\u001b[0;34m.\u001b[0m\u001b[0mdistplot\u001b[0m\u001b[0;34m(\u001b[0m\u001b[0mres\u001b[0m\u001b[0;34m,\u001b[0m \u001b[0mbins\u001b[0m \u001b[0;34m=\u001b[0m \u001b[0;36m15\u001b[0m\u001b[0;34m)\u001b[0m\u001b[0;34m\u001b[0m\u001b[0m\n",
            "\u001b[0;31mNameError\u001b[0m: name 'X_train_sm' is not defined"
          ]
        }
      ]
    },
    {
      "cell_type": "code",
      "metadata": {
        "id": "TziAAx5IwHUE",
        "colab_type": "code",
        "colab": {}
      },
      "source": [
        "X_test_sm = sm.add_constant(X_test)\n",
        "X1_test_sm = sm.add_constant(X1_test)\n",
        "\n",
        "# Predict the y values corresponding to X_test_sm\n",
        "y_pred = lr.predict(X_test_sm)\n",
        "y_pred = lr.predict(X1_test_sm)\n",
        "y_pred.head()\n"
      ],
      "execution_count": 0,
      "outputs": []
    },
    {
      "cell_type": "code",
      "metadata": {
        "id": "1ZIbO-98wHUI",
        "colab_type": "code",
        "colab": {}
      },
      "source": [
        "from sklearn.metrics import mean_squared_error\n",
        "from sklearn.metrics import r2_score\n",
        "\n",
        "#Returns the mean squared error; we'll take a square root\n",
        "np.sqrt(mean_squared_error(y_test, y_pred))\n",
        "\n",
        "\n",
        "r_squared = r2_score(y_test, y_pred)\n",
        "r_squared\n",
        "\n",
        "\n",
        "plt.scatter(X_test, y_test)\n",
        "plt.scatter(X1_test, y_test)\n",
        "plt.plot(X_test, 6.948 + 0.054 * X_test, 'r')\n",
        "plt.plot(X1_test, 6.948 + 0.054 * X1_test, 'r')\n",
        "plt.show() "
      ],
      "execution_count": 0,
      "outputs": []
    },
    {
      "cell_type": "code",
      "metadata": {
        "id": "jRMRTMUFwHUL",
        "colab_type": "code",
        "colab": {}
      },
      "source": [
        "from sklearn.linear_model import LogisticRegression\n",
        "from sklearn import metrics\n",
        "X_train, X_test, y_train, y_test = train_test_split(X, y, test_size=0.3, random_state=0)\n",
        "logreg = LogisticRegression()\n",
        "logreg.fit(X_train,y_train)"
      ],
      "execution_count": 0,
      "outputs": []
    },
    {
      "cell_type": "code",
      "metadata": {
        "id": "OqlN445bwHUP",
        "colab_type": "code",
        "colab": {}
      },
      "source": [
        "#import the metrics class\n",
        "from sklearn import metrics\n",
        "cnf_matrix = metrics.confusion_matrix(y_test, y_pred)\n",
        "cnf_matrix"
      ],
      "execution_count": 0,
      "outputs": []
    },
    {
      "cell_type": "code",
      "metadata": {
        "id": "3OR7X5SNwHUS",
        "colab_type": "code",
        "colab": {}
      },
      "source": [
        "# import required modules\n",
        "import numpy as np\n",
        "import matplotlib.pyplot as plt\n",
        "import seaborn as sns\n",
        "%matplotlib inline\n"
      ],
      "execution_count": 0,
      "outputs": []
    },
    {
      "cell_type": "code",
      "metadata": {
        "id": "D-FOf-BpwHUV",
        "colab_type": "code",
        "colab": {}
      },
      "source": [
        "class_names =[0,1] # name of classes\n",
        "fig, ax = plt.subplots()\n",
        "tick_marks = np.arange(len(class_names))\n",
        "plt.xticks(tick_marks, class_names)\n",
        "plt.yticks(tick_marks, class_names)\n",
        "# create heatmap\n",
        "sns.heatmap(pd.Dataframe(cnf_matrix), annot = True, cmap=\"YlGnBu\",fmt = 'g')\n",
        "ax.xaxis.set_label_position(\"top\")\n",
        "plt.tight_layout()\n",
        "plt.title('confusion matrix', y=1.1)\n",
        "plt.ylabel('Actual label')\n",
        "plt.xlabel('Predicted label')"
      ],
      "execution_count": 0,
      "outputs": []
    },
    {
      "cell_type": "code",
      "metadata": {
        "id": "0Uc_2yCGwHUZ",
        "colab_type": "code",
        "colab": {},
        "outputId": "0882a0cc-8f6e-4355-879c-2282e8425942"
      },
      "source": [
        "print(\"Accuracy:\", metrics.accuracy_score(y_test, y_pred))\n",
        "print(\"Precision:\",metrics.precision_score(y_test, y_pred))\n",
        "print(\"Recall:\",metrics.recall_score(y_test, y_pred))"
      ],
      "execution_count": 0,
      "outputs": [
        {
          "output_type": "error",
          "ename": "NameError",
          "evalue": "name 'metrics' is not defined",
          "traceback": [
            "\u001b[1;31m\u001b[0m",
            "\u001b[1;31mNameError\u001b[0mTraceback (most recent call last)",
            "\u001b[1;32m<ipython-input-14-97c0d417847b>\u001b[0m in \u001b[0;36m<module>\u001b[1;34m()\u001b[0m\n\u001b[1;32m----> 1\u001b[1;33m \u001b[1;32mprint\u001b[0m\u001b[1;33m(\u001b[0m\u001b[1;34m\"Accuracy:\"\u001b[0m\u001b[1;33m,\u001b[0m \u001b[0mmetrics\u001b[0m\u001b[1;33m.\u001b[0m\u001b[0maccuracy_score\u001b[0m\u001b[1;33m(\u001b[0m\u001b[0my_test\u001b[0m\u001b[1;33m,\u001b[0m \u001b[0my_pred\u001b[0m\u001b[1;33m)\u001b[0m\u001b[1;33m)\u001b[0m\u001b[1;33m\u001b[0m\u001b[0m\n\u001b[0m\u001b[0;32m      2\u001b[0m \u001b[1;32mprint\u001b[0m\u001b[1;33m(\u001b[0m\u001b[1;34m\"Precision:\"\u001b[0m\u001b[1;33m,\u001b[0m\u001b[0mmetrics\u001b[0m\u001b[1;33m.\u001b[0m\u001b[0mprecision_score\u001b[0m\u001b[1;33m(\u001b[0m\u001b[0my_test\u001b[0m\u001b[1;33m,\u001b[0m \u001b[0my_pred\u001b[0m\u001b[1;33m)\u001b[0m\u001b[1;33m)\u001b[0m\u001b[1;33m\u001b[0m\u001b[0m\n\u001b[0;32m      3\u001b[0m \u001b[1;32mprint\u001b[0m\u001b[1;33m(\u001b[0m\u001b[1;34m\"Recall:\"\u001b[0m\u001b[1;33m,\u001b[0m\u001b[0mmetrics\u001b[0m\u001b[1;33m.\u001b[0m\u001b[0mrecall_score\u001b[0m\u001b[1;33m(\u001b[0m\u001b[0my_test\u001b[0m\u001b[1;33m,\u001b[0m \u001b[0my_pred\u001b[0m\u001b[1;33m)\u001b[0m\u001b[1;33m)\u001b[0m\u001b[1;33m\u001b[0m\u001b[0m\n",
            "\u001b[1;31mNameError\u001b[0m: name 'metrics' is not defined"
          ]
        }
      ]
    },
    {
      "cell_type": "code",
      "metadata": {
        "id": "Ia3kWLOqwHUg",
        "colab_type": "code",
        "colab": {}
      },
      "source": [
        ""
      ],
      "execution_count": 0,
      "outputs": []
    },
    {
      "cell_type": "code",
      "metadata": {
        "id": "-6pZP47XwHUi",
        "colab_type": "code",
        "colab": {}
      },
      "source": [
        ""
      ],
      "execution_count": 0,
      "outputs": []
    }
  ]
}